{
 "cells": [
  {
   "cell_type": "code",
   "execution_count": 1,
   "metadata": {},
   "outputs": [],
   "source": [
    "def transpose(tile):\n",
    "    '''Transposes a tile'''\n",
    "    return (tile[::-1])\n",
    "\n",
    "def multiply(tile1, tile2):\n",
    "    '''Multiplies two tiles'''\n",
    "    return (tile1 + tile2)\n",
    "\n",
    "def operate(canvas, max_op_count):\n",
    "    '''Runs all operations (transposition and multiplication) once over each of the tiles, respecting the maximum operation count threshold'''\n",
    "    new_tiles = set()\n",
    "    for (tile, op_count) in canvas:\n",
    "        if op_count < max_op_count:\n",
    "            new_tiles.add((transpose(tile), op_count + 1))\n",
    "        for (other_tile, other_op_count) in canvas:\n",
    "            if op_count + other_op_count < max_op_count:\n",
    "                if tile[-1] == other_tile[0]:\n",
    "                    new_tiles.add((multiply(tile, other_tile), op_count + other_op_count + 1))\n",
    "                if other_tile[-1] == tile[0]:\n",
    "                    new_tiles.add((multiply(other_tile, tile), op_count + other_op_count + 1))\n",
    "    canvas.update(new_tiles)\n",
    "    \n",
    "def filter_duplicates(canvas):\n",
    "    thresh = set()\n",
    "    for (tile, op_count) in canvas:\n",
    "        for (other_tile, other_op_count) in canvas:\n",
    "            if tile == other_tile and op_count != other_op_count:\n",
    "                thresh.add((tile, max(op_count, other_op_count)))\n",
    "    return canvas.difference(thresh)\n",
    "    \n",
    "def filter_op_count(max_count, canvas):\n",
    "    thresh = set()\n",
    "    for (tile, op_count) in canvas:\n",
    "        if op_count > max_count:\n",
    "            thresh.add((tile, op_count))\n",
    "    return canvas.difference(thresh)    \n",
    "    \n",
    "def filter_template(template, canvas):\n",
    "    thresh = set()\n",
    "    for (tile, op_count) in canvas:\n",
    "        if tile[0] != template[0] or tile[-1] != template[-1]:\n",
    "            thresh.add((tile,op_count))\n",
    "    return canvas.difference(thresh)\n",
    "\n",
    "def sort(canvas):\n",
    "    return [x[0] for x in sorted(canvas, key=lambda x: x[1])]\n",
    "\n",
    "def simulate(template, max_operations, BASIC_TILES):\n",
    "    canvas = set()\n",
    "    for tile in BASIC_TILES:\n",
    "        canvas.add((tile,0))\n",
    "\n",
    "    for i in range(max_operations):\n",
    "        operate(canvas, i + 1)\n",
    "\n",
    "    canvas = filter_duplicates(canvas)\n",
    "    canvas = filter_op_count(max_operations, canvas)\n",
    "    print('Total number of possible tiles after', max_operations, 'operations:', len(canvas))\n",
    "    \n",
    "    canvas = filter_template(template, canvas)\n",
    "    print('Ranking of the correct answer in the suggestions compatible with [' + template[0] + '|' + template[-1] + ']:', len(canvas))\n",
    "\n",
    "    print('Rank of possible compatible answers:', sort(canvas))"
   ]
  },
  {
   "cell_type": "code",
   "execution_count": 2,
   "metadata": {},
   "outputs": [],
   "source": [
    "# Cl = 'class'\n",
    "# M = 'method'\n",
    "# F = 'file'\n",
    "# C = 'commit'\n",
    "# D = 'developer'\n",
    "# P = 'package'\n",
    "# I = 'issue'\n",
    "BASIC_TILES = {('Cl','M'), ('F','Cl'), ('C','F'), ('C','M'), ('D','C'), ('P','F'), ('I','C')}"
   ]
  },
  {
   "cell_type": "markdown",
   "metadata": {},
   "source": [
    "# Scenario 1: [D|D] = [D|C] x [C|M] x [C|M]T x [D|C]T"
   ]
  },
  {
   "cell_type": "code",
   "execution_count": 3,
   "metadata": {},
   "outputs": [
    {
     "name": "stdout",
     "output_type": "stream",
     "text": [
      "Total number of possible tiles after 4 operations: 231\n",
      "Ranking of the correct answer in the suggestions compatible with [D|D]: 3\n",
      "Rank of possible compatible answers: [('D', 'C', 'C', 'D'), ('D', 'C', 'C', 'F', 'F', 'C', 'C', 'D'), ('D', 'C', 'C', 'M', 'M', 'C', 'C', 'D')]\n"
     ]
    }
   ],
   "source": [
    "template = ('D','D')\n",
    "max_operations = 4\n",
    "\n",
    "simulate(template, max_operations, BASIC_TILES)"
   ]
  },
  {
   "cell_type": "markdown",
   "metadata": {},
   "source": [
    "# Scenario 2: [D|D] = [D|C] x [I|C]T x [I|C] x [D|C]T"
   ]
  },
  {
   "cell_type": "code",
   "execution_count": 4,
   "metadata": {},
   "outputs": [
    {
     "name": "stdout",
     "output_type": "stream",
     "text": [
      "Total number of possible tiles after 5 operations: 450\n",
      "Ranking of the correct answer in the suggestions compatible with [D|D]: 5\n",
      "Rank of possible compatible answers: [('D', 'C', 'C', 'D'), ('D', 'C', 'C', 'F', 'F', 'C', 'C', 'D'), ('D', 'C', 'C', 'M', 'M', 'C', 'C', 'D'), ('D', 'C', 'C', 'D', 'D', 'C', 'C', 'D'), ('D', 'C', 'C', 'I', 'I', 'C', 'C', 'D')]\n"
     ]
    }
   ],
   "source": [
    "template = ('D','D')\n",
    "max_operations = 5\n",
    "\n",
    "simulate(template, max_operations, BASIC_TILES)"
   ]
  },
  {
   "cell_type": "markdown",
   "metadata": {},
   "source": [
    "# Scenario 3: [D|Cl] = [D|C] x [C|M] x [Cl|M]T"
   ]
  },
  {
   "cell_type": "code",
   "execution_count": 5,
   "metadata": {},
   "outputs": [
    {
     "name": "stdout",
     "output_type": "stream",
     "text": [
      "Total number of possible tiles after 3 operations: 117\n",
      "Ranking of the correct answer in the suggestions compatible with [D|Cl]: 2\n",
      "Rank of possible compatible answers: [('D', 'C', 'C', 'F', 'F', 'Cl'), ('D', 'C', 'C', 'M', 'M', 'Cl')]\n"
     ]
    }
   ],
   "source": [
    "template = ('D','Cl')\n",
    "max_operations = 3\n",
    "\n",
    "simulate(template, max_operations, BASIC_TILES)"
   ]
  },
  {
   "cell_type": "markdown",
   "metadata": {},
   "source": [
    "# Scenario 4: [C|Cl] = [C|M] x [Cl|M]T"
   ]
  },
  {
   "cell_type": "code",
   "execution_count": 6,
   "metadata": {},
   "outputs": [
    {
     "name": "stdout",
     "output_type": "stream",
     "text": [
      "Total number of possible tiles after 2 operations: 54\n",
      "Ranking of the correct answer in the suggestions compatible with [C|Cl]: 2\n",
      "Rank of possible compatible answers: [('C', 'F', 'F', 'Cl'), ('C', 'M', 'M', 'Cl')]\n"
     ]
    }
   ],
   "source": [
    "template = ('C','Cl')\n",
    "max_operations = 2\n",
    "\n",
    "simulate(template, max_operations, BASIC_TILES)"
   ]
  }
 ],
 "metadata": {
  "kernelspec": {
   "display_name": "Python 3",
   "language": "python",
   "name": "python3"
  },
  "language_info": {
   "codemirror_mode": {
    "name": "ipython",
    "version": 3
   },
   "file_extension": ".py",
   "mimetype": "text/x-python",
   "name": "python",
   "nbconvert_exporter": "python",
   "pygments_lexer": "ipython3",
   "version": "3.6.5"
  }
 },
 "nbformat": 4,
 "nbformat_minor": 2
}
